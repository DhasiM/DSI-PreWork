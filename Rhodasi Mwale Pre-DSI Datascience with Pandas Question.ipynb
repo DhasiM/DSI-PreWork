{
 "cells": [
  {
   "cell_type": "code",
   "execution_count": null,
   "id": "a0af82ba",
   "metadata": {},
   "outputs": [],
   "source": [
    "import pandas as pd\n",
    "import numpy as np"
   ]
  },
  {
   "cell_type": "code",
   "execution_count": null,
   "id": "6df56f09",
   "metadata": {},
   "outputs": [],
   "source": [
    "#Q1= reading files\n",
    "akas = pd.read_csv('title.akas.tsv', delimiter = \"\\t\", dtype = 'object')\n",
    "akas.head(10)\n",
    "#basics = pd.read_csv('title.basics.tsv', delimiter = '\\t','object')\n",
    "#ratings = pd.read_csv('title.ratings.tsv', delimiter = '\\t','object')"
   ]
  },
  {
   "cell_type": "code",
   "execution_count": null,
   "id": "39eb378f",
   "metadata": {},
   "outputs": [],
   "source": [
    "#Q2 =Dropping duplicates\n",
    "akas.drop_duplicates()\n",
    "basics.drop_duplicates()\n",
    "ratings.drop_duplicates()"
   ]
  },
  {
   "cell_type": "code",
   "execution_count": null,
   "id": "ad86a6b6",
   "metadata": {},
   "outputs": [],
   "source": [
    "#Q3 = Using merge\n",
    "#Q3.1 Inner merge\n",
    "newdf = pd.merge(basics, ratings, on ='tconst', how ='inner')\n",
    "movies_mergedInner = pd.merge(akas, newdf, left_on='titleId', right_on='tconst', how ='inner')\n",
    "#number of lines 1686547, 19 columns\n",
    "#Q3.1 Outer merge\n",
    "df = pd.merge(basics, ratings, on ='tconst', how ='outer')\n",
    "movies_mergedOuter = pd.merge(akas, df, left_on='titleId', right_on='tconst', how ='outer')\n",
    "# number of lines 3419932, 19 columns\n",
    "#Q3.2 Unique method\n",
    "unique= movies_mergedInner['titleType'].nunique()\n",
    "print(unique)"
   ]
  },
  {
   "cell_type": "code",
   "execution_count": null,
   "id": "43a5ea6e",
   "metadata": {},
   "outputs": [],
   "source": [
    "#Q4\n",
    "df_new = movies_mergedOuter[(movies_mergedOuter.titleType=='movie') & \n",
    "                            ((movies_mergedOuter.region=='US') |\n",
    "                             (movies_mergedOuter.language =='en'))]"
   ]
  },
  {
   "cell_type": "code",
   "execution_count": null,
   "id": "4cd5c48f",
   "metadata": {},
   "outputs": [],
   "source": [
    "#Q5 add log10votes to datatframe\n",
    "df_new['log10Votes'] = np.log10(df_new['numVotes'])"
   ]
  },
  {
   "cell_type": "code",
   "execution_count": null,
   "id": "bd52a542",
   "metadata": {},
   "outputs": [],
   "source": [
    "#Q6 Lower case of genres column\n",
    "df_new.genres = df_new.genres.str.lower()"
   ]
  },
  {
   "cell_type": "code",
   "execution_count": null,
   "id": "e68c1461",
   "metadata": {},
   "outputs": [],
   "source": [
    "#Q6.1 group by genre and show highest 10 by mean of log10VOtes\n",
    "df1 = df_new.groupby('genres')['log10Votes'].mean().sort_values(ascending=False)\n",
    "df1.head(10)"
   ]
  },
  {
   "cell_type": "code",
   "execution_count": null,
   "id": "0fc719ad",
   "metadata": {},
   "outputs": [],
   "source": [
    "#Q6.2 group by genre and show highest 10 by mean of averageRating\n",
    "df2 = df_new.groupby('genres')['averageRating'].mean().sort_values(ascending=False)\n",
    "df2.head(10)"
   ]
  },
  {
   "cell_type": "code",
   "execution_count": null,
   "id": "84c92df3",
   "metadata": {},
   "outputs": [],
   "source": [
    "#Q7 \n",
    "#Groupby averageRating\n",
    "df2 = df_new.groupby('averageRating').mean().reset_index()\n",
    "#Draw scatterplot of averageRating and log10Votes\n",
    "import matplotlib.pyplot as plt\n",
    "plt.scatter(x = df2['averageRating'], y = df2['log10Votes'])\n",
    "plt.title('Scatterplot of averageRating vs log10Votes')\n",
    "plt.xlabel= 'averageRating' \n",
    "plt.ylabel= 'log10Votes'\n",
    "plt.show()"
   ]
  },
  {
   "cell_type": "code",
   "execution_count": null,
   "id": "c175971d",
   "metadata": {},
   "outputs": [],
   "source": [
    "#Q8.1 Linear regression with sklearn\n",
    "from sklearn.linear_model import LinearRegression\n",
    "#create numpy arrays\n",
    "X = np.array(df2['averageRating']).reshape(-1,1) \n",
    "Y= np.array(df2['log10Votes']).reshape(-1,1)\n",
    "#create regression object\n",
    "reg = LinearRegression(fit_intercept=True)\n",
    "#fit regression line\n",
    "reg.fit(X, Y)\n",
    "xfit = np.linspace(1, 10, 1000)\n",
    "yfit = reg.predict(xfit[:, np.newaxis])\n",
    "#plot regression line\n",
    "plt.scatter(X, Y, marker ='.')\n",
    "plt.plot(xfit, yfit, color='red')\n",
    "plt.title('Linear regression of averageRating on log10Votes')\n",
    "plt.xlabel(\"averageRating\")\n",
    "plt.ylabel('log10Votes')\n",
    "#print out values for intercept and coeficient\n",
    "print('Intercept is ;', reg.intercept_)\n",
    "print('Coeficient is;', reg.coef_)"
   ]
  },
  {
   "cell_type": "code",
   "execution_count": null,
   "id": "2be8c8b1",
   "metadata": {},
   "outputs": [],
   "source": [
    "#Q8.2 linear regression using scipy\n"
   ]
  }
 ],
 "metadata": {
  "kernelspec": {
   "display_name": "Python 3 (ipykernel)",
   "language": "python",
   "name": "python3"
  },
  "language_info": {
   "codemirror_mode": {
    "name": "ipython",
    "version": 3
   },
   "file_extension": ".py",
   "mimetype": "text/x-python",
   "name": "python",
   "nbconvert_exporter": "python",
   "pygments_lexer": "ipython3",
   "version": "3.9.7"
  }
 },
 "nbformat": 4,
 "nbformat_minor": 5
}
