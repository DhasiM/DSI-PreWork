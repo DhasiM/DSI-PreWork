{
 "cells": [
  {
   "cell_type": "code",
   "execution_count": null,
   "id": "a0af82ba",
   "metadata": {},
   "outputs": [],
   "source": [
    "import pandas as pd\n",
    "import numpy as np"
   ]
  },
  {
   "cell_type": "code",
   "execution_count": null,
   "id": "6df56f09",
   "metadata": {},
   "outputs": [],
   "source": [
    "#Q1= reading files\n",
    "akas = pd.read_csv('title.akas.tsv', delimiter = \"\\t\")\n",
    "basics = pd.read_csv('title.basics.tsv', delimiter = '\\t')\n",
    "ratings = pd.read_csv('title.ratings.tsv', delimiter = '\\t')"
   ]
  },
  {
   "cell_type": "code",
   "execution_count": null,
   "id": "39eb378f",
   "metadata": {},
   "outputs": [],
   "source": [
    "#Q2 =Dropping duplicates\n",
    "akas.drop_duplicates()\n",
    "basics.drop_duplicates()\n",
    "ratings.drop_duplicates()"
   ]
  },
  {
   "cell_type": "code",
   "execution_count": null,
   "id": "ad86a6b6",
   "metadata": {},
   "outputs": [],
   "source": [
    "#Q3 = Using merge\n",
    "#Q3.1 Inner merge\n",
    "newdf = pd.merge(basics, ratings, on ='tconst', how ='inner')\n",
    "movies_mergedInner = pd.merge(akas, newdf, left_on='titleId', right_on='tconst', how ='inner')\n",
    "#Q3.1 Outer merge\n",
    "df = pd.merge(basics, ratings, on ='tconst', how ='outer')\n",
    "movies_mergedOuter = pd.merge(akas, df, left_on='titleId', right_on='tconst', how ='outer')\n",
    "#Q3.2 Unique method"
   ]
  }
 ],
 "metadata": {
  "kernelspec": {
   "display_name": "Python 3 (ipykernel)",
   "language": "python",
   "name": "python3"
  },
  "language_info": {
   "codemirror_mode": {
    "name": "ipython",
    "version": 3
   },
   "file_extension": ".py",
   "mimetype": "text/x-python",
   "name": "python",
   "nbconvert_exporter": "python",
   "pygments_lexer": "ipython3",
   "version": "3.9.7"
  }
 },
 "nbformat": 4,
 "nbformat_minor": 5
}
